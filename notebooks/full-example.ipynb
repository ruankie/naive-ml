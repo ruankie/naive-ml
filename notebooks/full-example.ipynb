{
 "cells": [
  {
   "cell_type": "markdown",
   "metadata": {},
   "source": [
    "# Desecription\n",
    "This notebook deals with stock price forecasts. It shows an example of how easy it is to fall into the \"naive trap\": not realising your fancy ML models learn the not-so-useful naive forecasting strategy (using the current price as a forecast of hte next time step).\n",
    "\n",
    "See [this blog]() for more detials."
   ]
  },
  {
   "cell_type": "markdown",
   "metadata": {},
   "source": [
    "# Import libraries"
   ]
  },
  {
   "cell_type": "code",
   "execution_count": 1,
   "metadata": {},
   "outputs": [],
   "source": [
    "import pandas as pd\n",
    "import numpy as np\n",
    "import matplotlib.pyplot as plt\n",
    "\n",
    "from src import utilities, processing\n",
    "from src.models import Naive\n",
    "\n",
    "from sklearn.linear_model import Lasso\n",
    "from sklearn.neural_network import MLPRegressor\n",
    "from sklearn.ensemble import RandomForestRegressor\n",
    "from sklearn.metrics import mean_squared_error"
   ]
  },
  {
   "cell_type": "markdown",
   "metadata": {},
   "source": [
    "# Config\n",
    "Set up some settings for your analysis:\n",
    "* `TICKER`: ticker symbol of the stock you are interested in\n",
    "* `START_DATE`: start date of training set\n",
    "* `TRAIN_TEST_SPLIT_DATE`: date to use for separating train and test set\n",
    "* `END_DATE`: end date of test set\n",
    "* `SAVE_FIGS`: whether ot not to save plots\n",
    "* `FIGSIZE`: plot dimensions\n",
    "* `DPI`: pixel density of saved plots\n",
    "* `RANDOM_SEED`: seed for random numbers and processes to ensure reproducibility"
   ]
  },
  {
   "cell_type": "code",
   "execution_count": 2,
   "metadata": {},
   "outputs": [],
   "source": [
    "TICKER = 'AAPL'\n",
    "START_DATE = '2018-01-01'\n",
    "TRAIN_TEST_SPLIT_DATE = '2021-06-01'\n",
    "END_DATE = '2021-12-01'\n",
    "SAVE_FIGS = True\n",
    "FIGSIZE = (12,4)\n",
    "DPI = 600\n",
    "RANDOM_SEED = 123\n",
    "pd.set_option(\"max_columns\", None)"
   ]
  },
  {
   "cell_type": "markdown",
   "metadata": {},
   "source": [
    "# Load and process data"
   ]
  },
  {
   "cell_type": "markdown",
   "metadata": {},
   "source": [
    "## Load raw data\n",
    "Load the price and volume data for the selected ticker and date range"
   ]
  },
  {
   "cell_type": "code",
   "execution_count": 3,
   "metadata": {},
   "outputs": [
    {
     "name": "stdout",
     "output_type": "stream",
     "text": [
      "[*********************100%***********************]  1 of 1 completed\n"
     ]
    },
    {
     "data": {
      "text/html": [
       "<div>\n",
       "<style scoped>\n",
       "    .dataframe tbody tr th:only-of-type {\n",
       "        vertical-align: middle;\n",
       "    }\n",
       "\n",
       "    .dataframe tbody tr th {\n",
       "        vertical-align: top;\n",
       "    }\n",
       "\n",
       "    .dataframe thead th {\n",
       "        text-align: right;\n",
       "    }\n",
       "</style>\n",
       "<table border=\"1\" class=\"dataframe\">\n",
       "  <thead>\n",
       "    <tr style=\"text-align: right;\">\n",
       "      <th></th>\n",
       "      <th>Open</th>\n",
       "      <th>High</th>\n",
       "      <th>Low</th>\n",
       "      <th>Close</th>\n",
       "      <th>Adj Close</th>\n",
       "      <th>Volume</th>\n",
       "    </tr>\n",
       "    <tr>\n",
       "      <th>Date</th>\n",
       "      <th></th>\n",
       "      <th></th>\n",
       "      <th></th>\n",
       "      <th></th>\n",
       "      <th></th>\n",
       "      <th></th>\n",
       "    </tr>\n",
       "  </thead>\n",
       "  <tbody>\n",
       "    <tr>\n",
       "      <th>2018-01-02</th>\n",
       "      <td>42.540001</td>\n",
       "      <td>43.075001</td>\n",
       "      <td>42.314999</td>\n",
       "      <td>43.064999</td>\n",
       "      <td>41.135757</td>\n",
       "      <td>102223600</td>\n",
       "    </tr>\n",
       "    <tr>\n",
       "      <th>2018-01-03</th>\n",
       "      <td>43.132500</td>\n",
       "      <td>43.637501</td>\n",
       "      <td>42.990002</td>\n",
       "      <td>43.057499</td>\n",
       "      <td>41.128590</td>\n",
       "      <td>118071600</td>\n",
       "    </tr>\n",
       "    <tr>\n",
       "      <th>2018-01-04</th>\n",
       "      <td>43.134998</td>\n",
       "      <td>43.367500</td>\n",
       "      <td>43.020000</td>\n",
       "      <td>43.257500</td>\n",
       "      <td>41.319630</td>\n",
       "      <td>89738400</td>\n",
       "    </tr>\n",
       "  </tbody>\n",
       "</table>\n",
       "</div>"
      ],
      "text/plain": [
       "                 Open       High        Low      Close  Adj Close     Volume\n",
       "Date                                                                        \n",
       "2018-01-02  42.540001  43.075001  42.314999  43.064999  41.135757  102223600\n",
       "2018-01-03  43.132500  43.637501  42.990002  43.057499  41.128590  118071600\n",
       "2018-01-04  43.134998  43.367500  43.020000  43.257500  41.319630   89738400"
      ]
     },
     "execution_count": 3,
     "metadata": {},
     "output_type": "execute_result"
    }
   ],
   "source": [
    "df = utilities.get_data(\n",
    "    ticker=TICKER,\n",
    "    start_date=START_DATE,\n",
    "    end_date=END_DATE,\n",
    ")\n",
    "df.head(3)"
   ]
  },
  {
   "cell_type": "markdown",
   "metadata": {},
   "source": [
    "## Feature engineering and setting targets\n",
    "Add technical indicators as features and set the target variable"
   ]
  },
  {
   "cell_type": "code",
   "execution_count": 4,
   "metadata": {},
   "outputs": [
    {
     "data": {
      "text/html": [
       "<div>\n",
       "<style scoped>\n",
       "    .dataframe tbody tr th:only-of-type {\n",
       "        vertical-align: middle;\n",
       "    }\n",
       "\n",
       "    .dataframe tbody tr th {\n",
       "        vertical-align: top;\n",
       "    }\n",
       "\n",
       "    .dataframe thead th {\n",
       "        text-align: right;\n",
       "    }\n",
       "</style>\n",
       "<table border=\"1\" class=\"dataframe\">\n",
       "  <thead>\n",
       "    <tr style=\"text-align: right;\">\n",
       "      <th></th>\n",
       "      <th>Close</th>\n",
       "      <th>Volume</th>\n",
       "      <th>KAMA</th>\n",
       "      <th>ROC</th>\n",
       "      <th>RSI</th>\n",
       "      <th>TSI</th>\n",
       "      <th>Aroon_Up</th>\n",
       "      <th>Aroon_Dn</th>\n",
       "      <th>Aroon_Ind</th>\n",
       "      <th>DPO</th>\n",
       "      <th>EMA_7</th>\n",
       "      <th>EMA_10</th>\n",
       "      <th>EMA_50</th>\n",
       "      <th>EMA_100</th>\n",
       "      <th>SMA_7</th>\n",
       "      <th>SMA_10</th>\n",
       "      <th>SMA_50</th>\n",
       "      <th>SMA_100</th>\n",
       "      <th>MACD</th>\n",
       "      <th>MACD_Diff</th>\n",
       "      <th>MACD_Sig</th>\n",
       "      <th>FI</th>\n",
       "      <th>NVI</th>\n",
       "      <th>OBV</th>\n",
       "      <th>VPI</th>\n",
       "      <th>BB_HB</th>\n",
       "      <th>BB_MB</th>\n",
       "      <th>BB_LB</th>\n",
       "      <th>TARGET_price</th>\n",
       "      <th>TARGET_return</th>\n",
       "    </tr>\n",
       "    <tr>\n",
       "      <th>Date</th>\n",
       "      <th></th>\n",
       "      <th></th>\n",
       "      <th></th>\n",
       "      <th></th>\n",
       "      <th></th>\n",
       "      <th></th>\n",
       "      <th></th>\n",
       "      <th></th>\n",
       "      <th></th>\n",
       "      <th></th>\n",
       "      <th></th>\n",
       "      <th></th>\n",
       "      <th></th>\n",
       "      <th></th>\n",
       "      <th></th>\n",
       "      <th></th>\n",
       "      <th></th>\n",
       "      <th></th>\n",
       "      <th></th>\n",
       "      <th></th>\n",
       "      <th></th>\n",
       "      <th></th>\n",
       "      <th></th>\n",
       "      <th></th>\n",
       "      <th></th>\n",
       "      <th></th>\n",
       "      <th></th>\n",
       "      <th></th>\n",
       "      <th></th>\n",
       "      <th></th>\n",
       "    </tr>\n",
       "  </thead>\n",
       "  <tbody>\n",
       "    <tr>\n",
       "      <th>2018-01-02</th>\n",
       "      <td>41.135757</td>\n",
       "      <td>102223600</td>\n",
       "      <td>80.829993</td>\n",
       "      <td>1.861591</td>\n",
       "      <td>56.89658</td>\n",
       "      <td>14.112479</td>\n",
       "      <td>66.839917</td>\n",
       "      <td>38.482328</td>\n",
       "      <td>28.357588</td>\n",
       "      <td>-0.187446</td>\n",
       "      <td>80.713462</td>\n",
       "      <td>80.657338</td>\n",
       "      <td>80.039748</td>\n",
       "      <td>79.354717</td>\n",
       "      <td>80.710387</td>\n",
       "      <td>80.649113</td>\n",
       "      <td>80.018342</td>\n",
       "      <td>79.214518</td>\n",
       "      <td>0.802281</td>\n",
       "      <td>0.014967</td>\n",
       "      <td>0.80044</td>\n",
       "      <td>6.422962e+06</td>\n",
       "      <td>1000.000000</td>\n",
       "      <td>102223600</td>\n",
       "      <td>-5.016795e+07</td>\n",
       "      <td>85.46472</td>\n",
       "      <td>80.471109</td>\n",
       "      <td>75.477498</td>\n",
       "      <td>41.12859</td>\n",
       "      <td>-0.000174</td>\n",
       "    </tr>\n",
       "    <tr>\n",
       "      <th>2018-01-03</th>\n",
       "      <td>41.128590</td>\n",
       "      <td>118071600</td>\n",
       "      <td>80.829993</td>\n",
       "      <td>1.861591</td>\n",
       "      <td>56.89658</td>\n",
       "      <td>14.112479</td>\n",
       "      <td>66.839917</td>\n",
       "      <td>38.482328</td>\n",
       "      <td>28.357588</td>\n",
       "      <td>-0.187446</td>\n",
       "      <td>80.713462</td>\n",
       "      <td>80.657338</td>\n",
       "      <td>80.039748</td>\n",
       "      <td>79.354717</td>\n",
       "      <td>80.710387</td>\n",
       "      <td>80.649113</td>\n",
       "      <td>80.018342</td>\n",
       "      <td>79.214518</td>\n",
       "      <td>0.802281</td>\n",
       "      <td>0.014967</td>\n",
       "      <td>0.80044</td>\n",
       "      <td>6.422962e+06</td>\n",
       "      <td>1000.000000</td>\n",
       "      <td>-15848000</td>\n",
       "      <td>-5.022441e+07</td>\n",
       "      <td>85.46472</td>\n",
       "      <td>80.471109</td>\n",
       "      <td>75.477498</td>\n",
       "      <td>41.31963</td>\n",
       "      <td>0.004645</td>\n",
       "    </tr>\n",
       "    <tr>\n",
       "      <th>2018-01-04</th>\n",
       "      <td>41.319630</td>\n",
       "      <td>89738400</td>\n",
       "      <td>80.829993</td>\n",
       "      <td>1.861591</td>\n",
       "      <td>56.89658</td>\n",
       "      <td>14.112479</td>\n",
       "      <td>66.839917</td>\n",
       "      <td>38.482328</td>\n",
       "      <td>28.357588</td>\n",
       "      <td>-0.187446</td>\n",
       "      <td>80.713462</td>\n",
       "      <td>80.657338</td>\n",
       "      <td>80.039748</td>\n",
       "      <td>79.354717</td>\n",
       "      <td>80.710387</td>\n",
       "      <td>80.649113</td>\n",
       "      <td>80.018342</td>\n",
       "      <td>79.214518</td>\n",
       "      <td>0.802281</td>\n",
       "      <td>0.014967</td>\n",
       "      <td>0.80044</td>\n",
       "      <td>6.422962e+06</td>\n",
       "      <td>1004.644945</td>\n",
       "      <td>73890400</td>\n",
       "      <td>3.962562e+05</td>\n",
       "      <td>85.46472</td>\n",
       "      <td>80.471109</td>\n",
       "      <td>75.477498</td>\n",
       "      <td>41.79007</td>\n",
       "      <td>0.011385</td>\n",
       "    </tr>\n",
       "  </tbody>\n",
       "</table>\n",
       "</div>"
      ],
      "text/plain": [
       "                Close     Volume       KAMA       ROC       RSI        TSI  \\\n",
       "Date                                                                         \n",
       "2018-01-02  41.135757  102223600  80.829993  1.861591  56.89658  14.112479   \n",
       "2018-01-03  41.128590  118071600  80.829993  1.861591  56.89658  14.112479   \n",
       "2018-01-04  41.319630   89738400  80.829993  1.861591  56.89658  14.112479   \n",
       "\n",
       "             Aroon_Up   Aroon_Dn  Aroon_Ind       DPO      EMA_7     EMA_10  \\\n",
       "Date                                                                          \n",
       "2018-01-02  66.839917  38.482328  28.357588 -0.187446  80.713462  80.657338   \n",
       "2018-01-03  66.839917  38.482328  28.357588 -0.187446  80.713462  80.657338   \n",
       "2018-01-04  66.839917  38.482328  28.357588 -0.187446  80.713462  80.657338   \n",
       "\n",
       "               EMA_50    EMA_100      SMA_7     SMA_10     SMA_50    SMA_100  \\\n",
       "Date                                                                           \n",
       "2018-01-02  80.039748  79.354717  80.710387  80.649113  80.018342  79.214518   \n",
       "2018-01-03  80.039748  79.354717  80.710387  80.649113  80.018342  79.214518   \n",
       "2018-01-04  80.039748  79.354717  80.710387  80.649113  80.018342  79.214518   \n",
       "\n",
       "                MACD  MACD_Diff  MACD_Sig            FI          NVI  \\\n",
       "Date                                                                   \n",
       "2018-01-02  0.802281   0.014967   0.80044  6.422962e+06  1000.000000   \n",
       "2018-01-03  0.802281   0.014967   0.80044  6.422962e+06  1000.000000   \n",
       "2018-01-04  0.802281   0.014967   0.80044  6.422962e+06  1004.644945   \n",
       "\n",
       "                  OBV           VPI     BB_HB      BB_MB      BB_LB  \\\n",
       "Date                                                                  \n",
       "2018-01-02  102223600 -5.016795e+07  85.46472  80.471109  75.477498   \n",
       "2018-01-03  -15848000 -5.022441e+07  85.46472  80.471109  75.477498   \n",
       "2018-01-04   73890400  3.962562e+05  85.46472  80.471109  75.477498   \n",
       "\n",
       "            TARGET_price  TARGET_return  \n",
       "Date                                     \n",
       "2018-01-02      41.12859      -0.000174  \n",
       "2018-01-03      41.31963       0.004645  \n",
       "2018-01-04      41.79007       0.011385  "
      ]
     },
     "execution_count": 4,
     "metadata": {},
     "output_type": "execute_result"
    }
   ],
   "source": [
    "df = processing.get_close_volume(df)\n",
    "df = processing.get_technical_indicators(df)\n",
    "df = processing.get_targets(df)\n",
    "df.head(3)"
   ]
  },
  {
   "cell_type": "markdown",
   "metadata": {},
   "source": [
    "## Perform train-test split\n",
    "Split the data into a train and test set using the chosen boundary date and plot close price for visual confirmation of split"
   ]
  },
  {
   "cell_type": "code",
   "execution_count": 5,
   "metadata": {},
   "outputs": [
    {
     "name": "stdout",
     "output_type": "stream",
     "text": [
      "Performing train-test-split...\n",
      "Using boundary date:\t2021-06-01\n",
      "done.\n"
     ]
    }
   ],
   "source": [
    "train_df, test_df = processing.train_test_split(df, tt_split_date=TRAIN_TEST_SPLIT_DATE)"
   ]
  },
  {
   "cell_type": "code",
   "execution_count": 6,
   "metadata": {},
   "outputs": [
    {
     "data": {
      "image/png": "[encoded data removed]",
      "text/plain": [
       "<Figure size 864x288 with 1 Axes>"
      ]
     },
     "metadata": {
      "needs_background": "light"
     },
     "output_type": "display_data"
    }
   ],
   "source": [
    "plt.figure(figsize=FIGSIZE)\n",
    "train_df['Close'].plot(label='Train')\n",
    "test_df['Close'].plot(label='Test')\n",
    "plt.title(f'{TICKER}')\n",
    "plt.ylabel('Price')\n",
    "plt.xlabel('Date')\n",
    "plt.legend();\n",
    "\n",
    "if SAVE_FIGS:\n",
    "    plt.savefig(f'../figures/train-test-{TICKER}.png', dpi=DPI, bbox_inches='tight', facecolor='White')"
   ]
  },
  {
   "cell_type": "markdown",
   "metadata": {},
   "source": [
    "## Separate features and targets & scale features\n",
    "Fit a standard scaler to the features of the train set. Then scale the features of the train and test set using this scaler. Also return the selected target variables for the train and test set."
   ]
  },
  {
   "cell_type": "code",
   "execution_count": 7,
   "metadata": {},
   "outputs": [],
   "source": [
    "X_train, X_test, y_train, y_test, scaler_object = processing.get_X_y(train_df, test_df, target_var_name='TARGET_return', do_scale=True)"
   ]
  },
  {
   "cell_type": "markdown",
   "metadata": {},
   "source": [
    "# Build, train and test models"
   ]
  },
  {
   "cell_type": "markdown",
   "metadata": {},
   "source": [
    "## Define models\n",
    "Define the models that will be trained here. This is where you can add your own models to expand the analysis. Note that these models all have a `.fit(X_train, y_train)` method. Make sure any added modles conform to this convention."
   ]
  },
  {
   "cell_type": "code",
   "execution_count": 8,
   "metadata": {},
   "outputs": [],
   "source": [
    "models = {\n",
    "    'Linear': Lasso(random_state=RANDOM_SEED),\n",
    "    'Random Forrest': RandomForestRegressor(random_state=RANDOM_SEED),\n",
    "    'MLP': MLPRegressor(random_state=RANDOM_SEED),\n",
    "    'Naive': Naive(target_type='return'),\n",
    "}"
   ]
  },
  {
   "cell_type": "markdown",
   "metadata": {},
   "source": [
    "## Train models\n",
    "Train the models on the training data"
   ]
  },
  {
   "cell_type": "code",
   "execution_count": 9,
   "metadata": {},
   "outputs": [
    {
     "name": "stdout",
     "output_type": "stream",
     "text": [
      "Training Linear...\n",
      "Training Random Forrest...\n",
      "Training MLP...\n",
      "Training Naive...\n",
      "done.\n"
     ]
    }
   ],
   "source": [
    "for model_name in models:\n",
    "    print(f'Training {model_name}...')\n",
    "    models[model_name] = models[model_name].fit(X_train, y_train)\n",
    "print('done.')"
   ]
  },
  {
   "cell_type": "markdown",
   "metadata": {},
   "source": [
    "## Test models\n",
    "Using the selected models, produce forecasts on the test set and assess the forecast error. Note that these models all have a `.predict(X_test)` method. Make sure any added modles conform to this convention."
   ]
  },
  {
   "cell_type": "code",
   "execution_count": 10,
   "metadata": {},
   "outputs": [
    {
     "name": "stdout",
     "output_type": "stream",
     "text": [
      "Producing forecasts for Linear...\n",
      "Producing forecasts for Random Forrest...\n",
      "Producing forecasts for MLP...\n",
      "Producing forecasts for Naive...\n",
      "done.\n"
     ]
    }
   ],
   "source": [
    "# produce forecasts and calculate errors\n",
    "forecasts_dict = {}\n",
    "errors_dict = {}\n",
    "\n",
    "for model_name in models:\n",
    "    print(f'Producing forecasts for {model_name}...')\n",
    "    y_pred = pd.Series(data=models[model_name].predict(X_test), index=X_test.index)\n",
    "    forecasts_dict[model_name] = y_pred\n",
    "    errors_dict[model_name] = mean_squared_error(y_true=y_test, y_pred=y_pred)**0.5\n",
    "\n",
    "forecasts_df = pd.DataFrame(forecasts_dict)\n",
    "error_df = pd.DataFrame(data=pd.Series(errors_dict, name='RMSE')).sort_values(by='RMSE', ascending=True)\n",
    "print('done.')\n"
   ]
  },
  {
   "cell_type": "code",
   "execution_count": 11,
   "metadata": {},
   "outputs": [
    {
     "data": {
      "text/html": [
       "<div>\n",
       "<style scoped>\n",
       "    .dataframe tbody tr th:only-of-type {\n",
       "        vertical-align: middle;\n",
       "    }\n",
       "\n",
       "    .dataframe tbody tr th {\n",
       "        vertical-align: top;\n",
       "    }\n",
       "\n",
       "    .dataframe thead th {\n",
       "        text-align: right;\n",
       "    }\n",
       "</style>\n",
       "<table border=\"1\" class=\"dataframe\">\n",
       "  <thead>\n",
       "    <tr style=\"text-align: right;\">\n",
       "      <th></th>\n",
       "      <th>RMSE</th>\n",
       "    </tr>\n",
       "  </thead>\n",
       "  <tbody>\n",
       "    <tr>\n",
       "      <th>Linear</th>\n",
       "      <td>0.012540</td>\n",
       "    </tr>\n",
       "    <tr>\n",
       "      <th>Naive</th>\n",
       "      <td>0.012729</td>\n",
       "    </tr>\n",
       "    <tr>\n",
       "      <th>Random Forrest</th>\n",
       "      <td>0.017954</td>\n",
       "    </tr>\n",
       "    <tr>\n",
       "      <th>MLP</th>\n",
       "      <td>0.063611</td>\n",
       "    </tr>\n",
       "  </tbody>\n",
       "</table>\n",
       "</div>"
      ],
      "text/plain": [
       "                    RMSE\n",
       "Linear          0.012540\n",
       "Naive           0.012729\n",
       "Random Forrest  0.017954\n",
       "MLP             0.063611"
      ]
     },
     "execution_count": 11,
     "metadata": {},
     "output_type": "execute_result"
    }
   ],
   "source": [
    "error_df"
   ]
  },
  {
   "cell_type": "code",
   "execution_count": 12,
   "metadata": {},
   "outputs": [
    {
     "data": {
      "text/html": [
       "<div>\n",
       "<style scoped>\n",
       "    .dataframe tbody tr th:only-of-type {\n",
       "        vertical-align: middle;\n",
       "    }\n",
       "\n",
       "    .dataframe tbody tr th {\n",
       "        vertical-align: top;\n",
       "    }\n",
       "\n",
       "    .dataframe thead th {\n",
       "        text-align: right;\n",
       "    }\n",
       "</style>\n",
       "<table border=\"1\" class=\"dataframe\">\n",
       "  <thead>\n",
       "    <tr style=\"text-align: right;\">\n",
       "      <th></th>\n",
       "      <th>Linear</th>\n",
       "      <th>Random Forrest</th>\n",
       "      <th>MLP</th>\n",
       "      <th>Naive</th>\n",
       "    </tr>\n",
       "    <tr>\n",
       "      <th>Date</th>\n",
       "      <th></th>\n",
       "      <th></th>\n",
       "      <th></th>\n",
       "      <th></th>\n",
       "    </tr>\n",
       "  </thead>\n",
       "  <tbody>\n",
       "    <tr>\n",
       "      <th>2021-06-01</th>\n",
       "      <td>0.00152</td>\n",
       "      <td>0.001757</td>\n",
       "      <td>0.047099</td>\n",
       "      <td>0.0</td>\n",
       "    </tr>\n",
       "    <tr>\n",
       "      <th>2021-06-02</th>\n",
       "      <td>0.00152</td>\n",
       "      <td>0.001003</td>\n",
       "      <td>0.019351</td>\n",
       "      <td>0.0</td>\n",
       "    </tr>\n",
       "    <tr>\n",
       "      <th>2021-06-03</th>\n",
       "      <td>0.00152</td>\n",
       "      <td>-0.000366</td>\n",
       "      <td>0.036982</td>\n",
       "      <td>0.0</td>\n",
       "    </tr>\n",
       "    <tr>\n",
       "      <th>2021-06-04</th>\n",
       "      <td>0.00152</td>\n",
       "      <td>-0.001304</td>\n",
       "      <td>0.034832</td>\n",
       "      <td>0.0</td>\n",
       "    </tr>\n",
       "    <tr>\n",
       "      <th>2021-06-07</th>\n",
       "      <td>0.00152</td>\n",
       "      <td>-0.000686</td>\n",
       "      <td>0.032153</td>\n",
       "      <td>0.0</td>\n",
       "    </tr>\n",
       "  </tbody>\n",
       "</table>\n",
       "</div>"
      ],
      "text/plain": [
       "             Linear  Random Forrest       MLP  Naive\n",
       "Date                                                \n",
       "2021-06-01  0.00152        0.001757  0.047099    0.0\n",
       "2021-06-02  0.00152        0.001003  0.019351    0.0\n",
       "2021-06-03  0.00152       -0.000366  0.036982    0.0\n",
       "2021-06-04  0.00152       -0.001304  0.034832    0.0\n",
       "2021-06-07  0.00152       -0.000686  0.032153    0.0"
      ]
     },
     "execution_count": 12,
     "metadata": {},
     "output_type": "execute_result"
    }
   ],
   "source": [
    "forecasts_df.head()"
   ]
  },
  {
   "cell_type": "markdown",
   "metadata": {},
   "source": [
    "## Compare errors\n",
    "Visually compare the forecast errors using a bar plot"
   ]
  },
  {
   "cell_type": "code",
   "execution_count": 13,
   "metadata": {},
   "outputs": [
    {
     "data": {
      "image/png": "[encoded data removed]",
      "text/plain": [
       "<Figure size 518.4x216 with 1 Axes>"
      ]
     },
     "metadata": {
      "needs_background": "light"
     },
     "output_type": "display_data"
    }
   ],
   "source": [
    "# plot RMSE for each ticker\n",
    "ax = (error_df * 100.0).plot(kind='bar', title=f'Returns Forecast Error ({TICKER})', legend=False, figsize=(1.8*len(models),3))\n",
    "ax.set_ylabel(error_df.columns[0])\n",
    "# label bars\n",
    "for p in ax.patches:\n",
    "    ax.annotate(np.round(p.get_height(),decimals=3),\n",
    "        (p.get_x()+p.get_width()/2., p.get_height()),\n",
    "        ha='center',\n",
    "        va='center',\n",
    "        xytext=(0, -12),\n",
    "        textcoords='offset points')\n",
    "plt.xticks(rotation=45, ha='right')\n",
    "plt.ylabel('RMSE (%)')\n",
    "\n",
    "# save plot\n",
    "if SAVE_FIGS:\n",
    "    plt.savefig(f'../figures/errors-{TICKER}.png', dpi=DPI, bbox_inches='tight', facecolor='White')"
   ]
  },
  {
   "cell_type": "markdown",
   "metadata": {},
   "source": [
    "## Assess forecasting strategies\n",
    "Inspect the return forecasts to check for similarity to Naive forecast strategy. Note: the Naive strategy uses the current price as a forecast of the next day's price (it always forecasts 0.0 return)"
   ]
  },
  {
   "cell_type": "code",
   "execution_count": 14,
   "metadata": {},
   "outputs": [
    {
     "data": {
      "image/png": "[encoded data removed]",
      "text/plain": [
       "<Figure size 864x288 with 1 Axes>"
      ]
     },
     "metadata": {
      "needs_background": "light"
     },
     "output_type": "display_data"
    }
   ],
   "source": [
    "# plot returns forecast\n",
    "forecasts_df.plot(figsize=FIGSIZE, title=f'Return Forecasts ({TICKER})')\n",
    "plt.ylabel('Return')\n",
    "\n",
    "# save plot\n",
    "if SAVE_FIGS:\n",
    "    plt.savefig(f'../figures/return-forecast-{TICKER}.png', dpi=DPI, bbox_inches='tight', facecolor='White')"
   ]
  },
  {
   "cell_type": "markdown",
   "metadata": {},
   "source": [
    "### Getting price forecast from returns forecast\n",
    "Getting the same returns forecast as a price forecast that is more intuitive (although it's harder to see the similarity to the Naive strategy)"
   ]
  },
  {
   "cell_type": "code",
   "execution_count": 15,
   "metadata": {},
   "outputs": [
    {
     "data": {
      "image/png": "[encoded data removed]",
      "text/plain": [
       "<Figure size 864x288 with 1 Axes>"
      ]
     },
     "metadata": {
      "needs_background": "light"
     },
     "output_type": "display_data"
    }
   ],
   "source": [
    "# get price forecast forecast\n",
    "forecasts_price_df = (forecasts_df + 1.0) * test_df[['Close']].values\n",
    "forecasts_price_df\n",
    "\n",
    "# plot price forecast forecast\n",
    "ax = df[['Close']]['2021':].plot(figsize=FIGSIZE, title=f'Price Forecasts ({TICKER})')\n",
    "forecasts_price_df.plot(ax=ax)\n",
    "\n",
    "plt.ylabel('Price ($)')\n",
    "\n",
    "# save plot\n",
    "if SAVE_FIGS:\n",
    "    plt.savefig(f'../figures/price-forecast-{TICKER}.png', dpi=DPI, bbox_inches='tight', facecolor='White')"
   ]
  }
 ],
 "metadata": {
  "interpreter": {
   "hash": "949777d72b0d2535278d3dc13498b2535136f6dfe0678499012e853ee9abcab1"
  },
  "kernelspec": {
   "display_name": "Python 3 (ipykernel)",
   "language": "python",
   "name": "python3"
  },
  "language_info": {
   "codemirror_mode": {
    "name": "ipython",
    "version": 3
   },
   "file_extension": ".py",
   "mimetype": "text/x-python",
   "name": "python",
   "nbconvert_exporter": "python",
   "pygments_lexer": "ipython3",
   "version": "3.8.13"
  },
  "orig_nbformat": 4
 },
 "nbformat": 4,
 "nbformat_minor": 2
}
