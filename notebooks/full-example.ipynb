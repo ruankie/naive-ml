{
 "cells": [
  {
   "cell_type": "markdown",
   "source": [
    "# Import libraries"
   ],
   "metadata": {}
  },
  {
   "cell_type": "markdown",
   "source": [
    "## Feedback\n",
    "\n",
    "1. Remove all commented code, unless there's a reason they should be there? If so, then explain why it's commented or mark as TODO\n",
    "2. Would like to see a bit more explaination or analysis before each cell. Either that, or link your blog post to the top of this notebook. \n",
    "3. I did run the whole notebook using the devcontainer, so 100% reproducible. Well done :)"
   ],
   "metadata": {}
  },
  {
   "cell_type": "code",
   "execution_count": 23,
   "source": [
    "import pandas as pd\n",
    "import numpy as np\n",
    "import matplotlib.pyplot as plt\n",
    "\n",
    "from src import utilities, processing\n",
    "from src.models import Naive\n",
    "\n",
    "from sklearn.linear_model import Lasso\n",
    "from sklearn.neural_network import MLPRegressor\n",
    "from sklearn.ensemble import RandomForestRegressor\n",
    "from sklearn.metrics import mean_squared_error\n",
    "\n",
    "# from statsmodels.tsa.arima.model import ARIMA\n",
    "# import xgboost as xgb\n",
    "# import tensorflow as tf\n",
    "\n",
    "pd.set_option(\"max_columns\", None)"
   ],
   "outputs": [],
   "metadata": {}
  },
  {
   "cell_type": "markdown",
   "source": [
    "# Config"
   ],
   "metadata": {}
  },
  {
   "cell_type": "code",
   "execution_count": 24,
   "source": [
    "TICKER = 'AAPL'\n",
    "START_DATE = '2018-01-01'\n",
    "TRAIN_TEST_SPLIT_DATE = '2021-06-01'\n",
    "END_DATE = '2021-12-01'\n",
    "SAVE_FIGS = True\n",
    "FIGSIZE = (12,4)\n",
    "DPI = 600\n",
    "RANDOM_SEED = 123"
   ],
   "outputs": [],
   "metadata": {}
  },
  {
   "cell_type": "markdown",
   "source": [
    "# Load and process data"
   ],
   "metadata": {}
  },
  {
   "cell_type": "markdown",
   "source": [
    "## Load raw data"
   ],
   "metadata": {}
  },
  {
   "cell_type": "code",
   "execution_count": 25,
   "source": [
    "df = utilities.get_data(\n",
    "    ticker=TICKER,\n",
    "    start_date=START_DATE,\n",
    "    end_date=END_DATE,\n",
    ")\n",
    "df.head(3)"
   ],
   "outputs": [
    {
     "output_type": "stream",
     "name": "stdout",
     "text": [
      "[*********************100%***********************]  1 of 1 completed\n"
     ]
    },
    {
     "output_type": "execute_result",
     "data": {
      "text/html": [
       "<div>\n",
       "<style scoped>\n",
       "    .dataframe tbody tr th:only-of-type {\n",
       "        vertical-align: middle;\n",
       "    }\n",
       "\n",
       "    .dataframe tbody tr th {\n",
       "        vertical-align: top;\n",
       "    }\n",
       "\n",
       "    .dataframe thead th {\n",
       "        text-align: right;\n",
       "    }\n",
       "</style>\n",
       "<table border=\"1\" class=\"dataframe\">\n",
       "  <thead>\n",
       "    <tr style=\"text-align: right;\">\n",
       "      <th></th>\n",
       "      <th>Open</th>\n",
       "      <th>High</th>\n",
       "      <th>Low</th>\n",
       "      <th>Close</th>\n",
       "      <th>Adj Close</th>\n",
       "      <th>Volume</th>\n",
       "    </tr>\n",
       "    <tr>\n",
       "      <th>Date</th>\n",
       "      <th></th>\n",
       "      <th></th>\n",
       "      <th></th>\n",
       "      <th></th>\n",
       "      <th></th>\n",
       "      <th></th>\n",
       "    </tr>\n",
       "  </thead>\n",
       "  <tbody>\n",
       "    <tr>\n",
       "      <th>2018-01-02</th>\n",
       "      <td>42.540001</td>\n",
       "      <td>43.075001</td>\n",
       "      <td>42.314999</td>\n",
       "      <td>43.064999</td>\n",
       "      <td>41.135754</td>\n",
       "      <td>102223600</td>\n",
       "    </tr>\n",
       "    <tr>\n",
       "      <th>2018-01-03</th>\n",
       "      <td>43.132500</td>\n",
       "      <td>43.637501</td>\n",
       "      <td>42.990002</td>\n",
       "      <td>43.057499</td>\n",
       "      <td>41.128593</td>\n",
       "      <td>118071600</td>\n",
       "    </tr>\n",
       "    <tr>\n",
       "      <th>2018-01-04</th>\n",
       "      <td>43.134998</td>\n",
       "      <td>43.367500</td>\n",
       "      <td>43.020000</td>\n",
       "      <td>43.257500</td>\n",
       "      <td>41.319630</td>\n",
       "      <td>89738400</td>\n",
       "    </tr>\n",
       "  </tbody>\n",
       "</table>\n",
       "</div>"
      ],
      "text/plain": [
       "                 Open       High        Low      Close  Adj Close     Volume\n",
       "Date                                                                        \n",
       "2018-01-02  42.540001  43.075001  42.314999  43.064999  41.135754  102223600\n",
       "2018-01-03  43.132500  43.637501  42.990002  43.057499  41.128593  118071600\n",
       "2018-01-04  43.134998  43.367500  43.020000  43.257500  41.319630   89738400"
      ]
     },
     "metadata": {},
     "execution_count": 25
    }
   ],
   "metadata": {}
  },
  {
   "cell_type": "markdown",
   "source": [
    "## Feature engineering and setting targets"
   ],
   "metadata": {}
  },
  {
   "cell_type": "code",
   "execution_count": 26,
   "source": [
    "df = processing.get_close_volume(df)\n",
    "df = processing.get_technical_indicators(df)\n",
    "df = processing.get_targets(df)\n",
    "df.head(3)"
   ],
   "outputs": [
    {
     "output_type": "execute_result",
     "data": {
      "text/html": [
       "<div>\n",
       "<style scoped>\n",
       "    .dataframe tbody tr th:only-of-type {\n",
       "        vertical-align: middle;\n",
       "    }\n",
       "\n",
       "    .dataframe tbody tr th {\n",
       "        vertical-align: top;\n",
       "    }\n",
       "\n",
       "    .dataframe thead th {\n",
       "        text-align: right;\n",
       "    }\n",
       "</style>\n",
       "<table border=\"1\" class=\"dataframe\">\n",
       "  <thead>\n",
       "    <tr style=\"text-align: right;\">\n",
       "      <th></th>\n",
       "      <th>Close</th>\n",
       "      <th>Volume</th>\n",
       "      <th>KAMA</th>\n",
       "      <th>ROC</th>\n",
       "      <th>RSI</th>\n",
       "      <th>TSI</th>\n",
       "      <th>Aroon_Up</th>\n",
       "      <th>Aroon_Dn</th>\n",
       "      <th>Aroon_Ind</th>\n",
       "      <th>DPO</th>\n",
       "      <th>EMA_7</th>\n",
       "      <th>EMA_10</th>\n",
       "      <th>EMA_50</th>\n",
       "      <th>EMA_100</th>\n",
       "      <th>SMA_7</th>\n",
       "      <th>SMA_10</th>\n",
       "      <th>SMA_50</th>\n",
       "      <th>SMA_100</th>\n",
       "      <th>MACD</th>\n",
       "      <th>MACD_Diff</th>\n",
       "      <th>MACD_Sig</th>\n",
       "      <th>FI</th>\n",
       "      <th>NVI</th>\n",
       "      <th>OBV</th>\n",
       "      <th>VPI</th>\n",
       "      <th>BB_HB</th>\n",
       "      <th>BB_MB</th>\n",
       "      <th>BB_LB</th>\n",
       "      <th>TARGET_price</th>\n",
       "      <th>TARGET_return</th>\n",
       "    </tr>\n",
       "    <tr>\n",
       "      <th>Date</th>\n",
       "      <th></th>\n",
       "      <th></th>\n",
       "      <th></th>\n",
       "      <th></th>\n",
       "      <th></th>\n",
       "      <th></th>\n",
       "      <th></th>\n",
       "      <th></th>\n",
       "      <th></th>\n",
       "      <th></th>\n",
       "      <th></th>\n",
       "      <th></th>\n",
       "      <th></th>\n",
       "      <th></th>\n",
       "      <th></th>\n",
       "      <th></th>\n",
       "      <th></th>\n",
       "      <th></th>\n",
       "      <th></th>\n",
       "      <th></th>\n",
       "      <th></th>\n",
       "      <th></th>\n",
       "      <th></th>\n",
       "      <th></th>\n",
       "      <th></th>\n",
       "      <th></th>\n",
       "      <th></th>\n",
       "      <th></th>\n",
       "      <th></th>\n",
       "      <th></th>\n",
       "    </tr>\n",
       "  </thead>\n",
       "  <tbody>\n",
       "    <tr>\n",
       "      <th>2018-01-02</th>\n",
       "      <td>41.135754</td>\n",
       "      <td>102223600</td>\n",
       "      <td>80.829992</td>\n",
       "      <td>1.861591</td>\n",
       "      <td>56.896581</td>\n",
       "      <td>14.112483</td>\n",
       "      <td>66.839917</td>\n",
       "      <td>38.482328</td>\n",
       "      <td>28.357588</td>\n",
       "      <td>-0.187446</td>\n",
       "      <td>80.713462</td>\n",
       "      <td>80.657338</td>\n",
       "      <td>80.039748</td>\n",
       "      <td>79.354717</td>\n",
       "      <td>80.710387</td>\n",
       "      <td>80.649113</td>\n",
       "      <td>80.018342</td>\n",
       "      <td>79.214518</td>\n",
       "      <td>0.802281</td>\n",
       "      <td>0.014967</td>\n",
       "      <td>0.80044</td>\n",
       "      <td>6.422969e+06</td>\n",
       "      <td>1000.000000</td>\n",
       "      <td>102223600</td>\n",
       "      <td>-5.016795e+07</td>\n",
       "      <td>85.46472</td>\n",
       "      <td>80.471109</td>\n",
       "      <td>75.477498</td>\n",
       "      <td>41.128593</td>\n",
       "      <td>-0.000174</td>\n",
       "    </tr>\n",
       "    <tr>\n",
       "      <th>2018-01-03</th>\n",
       "      <td>41.128593</td>\n",
       "      <td>118071600</td>\n",
       "      <td>80.829992</td>\n",
       "      <td>1.861591</td>\n",
       "      <td>56.896581</td>\n",
       "      <td>14.112483</td>\n",
       "      <td>66.839917</td>\n",
       "      <td>38.482328</td>\n",
       "      <td>28.357588</td>\n",
       "      <td>-0.187446</td>\n",
       "      <td>80.713462</td>\n",
       "      <td>80.657338</td>\n",
       "      <td>80.039748</td>\n",
       "      <td>79.354717</td>\n",
       "      <td>80.710387</td>\n",
       "      <td>80.649113</td>\n",
       "      <td>80.018342</td>\n",
       "      <td>79.214518</td>\n",
       "      <td>0.802281</td>\n",
       "      <td>0.014967</td>\n",
       "      <td>0.80044</td>\n",
       "      <td>6.422969e+06</td>\n",
       "      <td>1000.000000</td>\n",
       "      <td>-15848000</td>\n",
       "      <td>-5.022439e+07</td>\n",
       "      <td>85.46472</td>\n",
       "      <td>80.471109</td>\n",
       "      <td>75.477498</td>\n",
       "      <td>41.319630</td>\n",
       "      <td>0.004645</td>\n",
       "    </tr>\n",
       "    <tr>\n",
       "      <th>2018-01-04</th>\n",
       "      <td>41.319630</td>\n",
       "      <td>89738400</td>\n",
       "      <td>80.829992</td>\n",
       "      <td>1.861591</td>\n",
       "      <td>56.896581</td>\n",
       "      <td>14.112483</td>\n",
       "      <td>66.839917</td>\n",
       "      <td>38.482328</td>\n",
       "      <td>28.357588</td>\n",
       "      <td>-0.187446</td>\n",
       "      <td>80.713462</td>\n",
       "      <td>80.657338</td>\n",
       "      <td>80.039748</td>\n",
       "      <td>79.354717</td>\n",
       "      <td>80.710387</td>\n",
       "      <td>80.649113</td>\n",
       "      <td>80.018342</td>\n",
       "      <td>79.214518</td>\n",
       "      <td>0.802281</td>\n",
       "      <td>0.014967</td>\n",
       "      <td>0.80044</td>\n",
       "      <td>6.422969e+06</td>\n",
       "      <td>1004.644852</td>\n",
       "      <td>73890400</td>\n",
       "      <td>3.962698e+05</td>\n",
       "      <td>85.46472</td>\n",
       "      <td>80.471109</td>\n",
       "      <td>75.477498</td>\n",
       "      <td>41.790073</td>\n",
       "      <td>0.011385</td>\n",
       "    </tr>\n",
       "  </tbody>\n",
       "</table>\n",
       "</div>"
      ],
      "text/plain": [
       "                Close     Volume       KAMA       ROC        RSI        TSI  \\\n",
       "Date                                                                          \n",
       "2018-01-02  41.135754  102223600  80.829992  1.861591  56.896581  14.112483   \n",
       "2018-01-03  41.128593  118071600  80.829992  1.861591  56.896581  14.112483   \n",
       "2018-01-04  41.319630   89738400  80.829992  1.861591  56.896581  14.112483   \n",
       "\n",
       "             Aroon_Up   Aroon_Dn  Aroon_Ind       DPO      EMA_7     EMA_10  \\\n",
       "Date                                                                          \n",
       "2018-01-02  66.839917  38.482328  28.357588 -0.187446  80.713462  80.657338   \n",
       "2018-01-03  66.839917  38.482328  28.357588 -0.187446  80.713462  80.657338   \n",
       "2018-01-04  66.839917  38.482328  28.357588 -0.187446  80.713462  80.657338   \n",
       "\n",
       "               EMA_50    EMA_100      SMA_7     SMA_10     SMA_50    SMA_100  \\\n",
       "Date                                                                           \n",
       "2018-01-02  80.039748  79.354717  80.710387  80.649113  80.018342  79.214518   \n",
       "2018-01-03  80.039748  79.354717  80.710387  80.649113  80.018342  79.214518   \n",
       "2018-01-04  80.039748  79.354717  80.710387  80.649113  80.018342  79.214518   \n",
       "\n",
       "                MACD  MACD_Diff  MACD_Sig            FI          NVI  \\\n",
       "Date                                                                   \n",
       "2018-01-02  0.802281   0.014967   0.80044  6.422969e+06  1000.000000   \n",
       "2018-01-03  0.802281   0.014967   0.80044  6.422969e+06  1000.000000   \n",
       "2018-01-04  0.802281   0.014967   0.80044  6.422969e+06  1004.644852   \n",
       "\n",
       "                  OBV           VPI     BB_HB      BB_MB      BB_LB  \\\n",
       "Date                                                                  \n",
       "2018-01-02  102223600 -5.016795e+07  85.46472  80.471109  75.477498   \n",
       "2018-01-03  -15848000 -5.022439e+07  85.46472  80.471109  75.477498   \n",
       "2018-01-04   73890400  3.962698e+05  85.46472  80.471109  75.477498   \n",
       "\n",
       "            TARGET_price  TARGET_return  \n",
       "Date                                     \n",
       "2018-01-02     41.128593      -0.000174  \n",
       "2018-01-03     41.319630       0.004645  \n",
       "2018-01-04     41.790073       0.011385  "
      ]
     },
     "metadata": {},
     "execution_count": 26
    }
   ],
   "metadata": {}
  },
  {
   "cell_type": "markdown",
   "source": [
    "## Perform train-test split"
   ],
   "metadata": {}
  },
  {
   "cell_type": "code",
   "execution_count": 27,
   "source": [
    "train_df, test_df = processing.train_test_split(df, tt_split_date=TRAIN_TEST_SPLIT_DATE)"
   ],
   "outputs": [
    {
     "output_type": "stream",
     "name": "stdout",
     "text": [
      "Performing train-test-split...\n",
      "Using boundary date:\t2021-06-01\n",
      "done.\n"
     ]
    }
   ],
   "metadata": {}
  },
  {
   "cell_type": "code",
   "execution_count": 28,
   "source": [
    "plt.figure(figsize=FIGSIZE)\n",
    "train_df['Close'].plot(label='Train')\n",
    "test_df['Close'].plot(label='Test')\n",
    "plt.title(f'{TICKER}')\n",
    "plt.ylabel('Price')\n",
    "plt.xlabel('Date')\n",
    "plt.legend();\n",
    "\n",
    "if SAVE_FIGS:\n",
    "    plt.savefig(f'../figures/train-test-{TICKER}.png', dpi=DPI, bbox_inches='tight', facecolor='White')"
   ],
   "outputs": [
    {
     "output_type": "display_data",
     "data": {
      "image/png": "[encoded data removed]",
      "text/plain": [
       "<Figure size 864x288 with 1 Axes>"
      ]
     },
     "metadata": {
      "needs_background": "light"
     }
    }
   ],
   "metadata": {}
  },
  {
   "cell_type": "markdown",
   "source": [
    "## Separate features and targets & scale features"
   ],
   "metadata": {}
  },
  {
   "cell_type": "code",
   "execution_count": 29,
   "source": [
    "X_train, X_test, y_train, y_test, scaler_object = processing.get_X_y(train_df, test_df, target_var_name='TARGET_return', do_scale=True)"
   ],
   "outputs": [],
   "metadata": {}
  },
  {
   "cell_type": "markdown",
   "source": [
    "# Build, train and test models"
   ],
   "metadata": {}
  },
  {
   "cell_type": "markdown",
   "source": [
    "## Define models"
   ],
   "metadata": {}
  },
  {
   "cell_type": "code",
   "execution_count": 30,
   "source": [
    "#xgb_reg = xgb.XGBRegressor(objective='reg:squarederror', random_state=RANDOM_SEED)\n",
    "\n",
    "models = {\n",
    "    'Linear': Lasso(random_state=RANDOM_SEED),\n",
    "    'Random Forrest': RandomForestRegressor(random_state=RANDOM_SEED),\n",
    "    'MLP': MLPRegressor(random_state=RANDOM_SEED),\n",
    "    'Naive': Naive(target_type='return'),\n",
    "}"
   ],
   "outputs": [],
   "metadata": {}
  },
  {
   "cell_type": "markdown",
   "source": [
    "## Train models"
   ],
   "metadata": {}
  },
  {
   "cell_type": "code",
   "execution_count": 31,
   "source": [
    "for model_name in models:\n",
    "    print(f'Training {model_name}...')\n",
    "    models[model_name] = models[model_name].fit(X_train, y_train)\n",
    "print('done.')"
   ],
   "outputs": [
    {
     "output_type": "stream",
     "name": "stdout",
     "text": [
      "Training Linear...\n",
      "Training Random Forrest...\n",
      "Training MLP...\n",
      "Training Naive...\n",
      "done.\n"
     ]
    }
   ],
   "metadata": {}
  },
  {
   "cell_type": "markdown",
   "source": [
    "## Test models"
   ],
   "metadata": {}
  },
  {
   "cell_type": "code",
   "execution_count": 32,
   "source": [
    "# produce forecasts and calculate errors\n",
    "forecasts_dict = {}\n",
    "errors_dict = {}\n",
    "\n",
    "for model_name in models:\n",
    "    print(f'Producing forecasts for {model_name}...')\n",
    "    y_pred = pd.Series(data=models[model_name].predict(X_test), index=X_test.index)\n",
    "    forecasts_dict[model_name] = y_pred\n",
    "    errors_dict[model_name] = mean_squared_error(y_true=y_test, y_pred=y_pred)**0.5\n",
    "\n",
    "forecasts_df = pd.DataFrame(forecasts_dict)\n",
    "error_df = pd.DataFrame(data=pd.Series(errors_dict, name='RMSE')).sort_values(by='RMSE', ascending=True)\n",
    "print('done.')\n"
   ],
   "outputs": [
    {
     "output_type": "stream",
     "name": "stdout",
     "text": [
      "Producing forecasts for Linear...\n",
      "Producing forecasts for Random Forrest...\n",
      "Producing forecasts for MLP...\n",
      "Producing forecasts for Naive...\n",
      "done.\n"
     ]
    }
   ],
   "metadata": {}
  },
  {
   "cell_type": "code",
   "execution_count": 33,
   "source": [
    "error_df"
   ],
   "outputs": [
    {
     "output_type": "execute_result",
     "data": {
      "text/html": [
       "<div>\n",
       "<style scoped>\n",
       "    .dataframe tbody tr th:only-of-type {\n",
       "        vertical-align: middle;\n",
       "    }\n",
       "\n",
       "    .dataframe tbody tr th {\n",
       "        vertical-align: top;\n",
       "    }\n",
       "\n",
       "    .dataframe thead th {\n",
       "        text-align: right;\n",
       "    }\n",
       "</style>\n",
       "<table border=\"1\" class=\"dataframe\">\n",
       "  <thead>\n",
       "    <tr style=\"text-align: right;\">\n",
       "      <th></th>\n",
       "      <th>RMSE</th>\n",
       "    </tr>\n",
       "  </thead>\n",
       "  <tbody>\n",
       "    <tr>\n",
       "      <th>Linear</th>\n",
       "      <td>0.012540</td>\n",
       "    </tr>\n",
       "    <tr>\n",
       "      <th>Naive</th>\n",
       "      <td>0.012729</td>\n",
       "    </tr>\n",
       "    <tr>\n",
       "      <th>Random Forrest</th>\n",
       "      <td>0.017923</td>\n",
       "    </tr>\n",
       "    <tr>\n",
       "      <th>MLP</th>\n",
       "      <td>0.063611</td>\n",
       "    </tr>\n",
       "  </tbody>\n",
       "</table>\n",
       "</div>"
      ],
      "text/plain": [
       "                    RMSE\n",
       "Linear          0.012540\n",
       "Naive           0.012729\n",
       "Random Forrest  0.017923\n",
       "MLP             0.063611"
      ]
     },
     "metadata": {},
     "execution_count": 33
    }
   ],
   "metadata": {}
  },
  {
   "cell_type": "code",
   "execution_count": 34,
   "source": [
    "forecasts_df.head()"
   ],
   "outputs": [
    {
     "output_type": "execute_result",
     "data": {
      "text/html": [
       "<div>\n",
       "<style scoped>\n",
       "    .dataframe tbody tr th:only-of-type {\n",
       "        vertical-align: middle;\n",
       "    }\n",
       "\n",
       "    .dataframe tbody tr th {\n",
       "        vertical-align: top;\n",
       "    }\n",
       "\n",
       "    .dataframe thead th {\n",
       "        text-align: right;\n",
       "    }\n",
       "</style>\n",
       "<table border=\"1\" class=\"dataframe\">\n",
       "  <thead>\n",
       "    <tr style=\"text-align: right;\">\n",
       "      <th></th>\n",
       "      <th>Linear</th>\n",
       "      <th>Random Forrest</th>\n",
       "      <th>MLP</th>\n",
       "      <th>Naive</th>\n",
       "    </tr>\n",
       "    <tr>\n",
       "      <th>Date</th>\n",
       "      <th></th>\n",
       "      <th></th>\n",
       "      <th></th>\n",
       "      <th></th>\n",
       "    </tr>\n",
       "  </thead>\n",
       "  <tbody>\n",
       "    <tr>\n",
       "      <th>2021-06-01</th>\n",
       "      <td>0.00152</td>\n",
       "      <td>0.001757</td>\n",
       "      <td>0.047099</td>\n",
       "      <td>0.0</td>\n",
       "    </tr>\n",
       "    <tr>\n",
       "      <th>2021-06-02</th>\n",
       "      <td>0.00152</td>\n",
       "      <td>0.001003</td>\n",
       "      <td>0.019351</td>\n",
       "      <td>0.0</td>\n",
       "    </tr>\n",
       "    <tr>\n",
       "      <th>2021-06-03</th>\n",
       "      <td>0.00152</td>\n",
       "      <td>-0.000366</td>\n",
       "      <td>0.036982</td>\n",
       "      <td>0.0</td>\n",
       "    </tr>\n",
       "    <tr>\n",
       "      <th>2021-06-04</th>\n",
       "      <td>0.00152</td>\n",
       "      <td>-0.001304</td>\n",
       "      <td>0.034833</td>\n",
       "      <td>0.0</td>\n",
       "    </tr>\n",
       "    <tr>\n",
       "      <th>2021-06-07</th>\n",
       "      <td>0.00152</td>\n",
       "      <td>-0.000686</td>\n",
       "      <td>0.032153</td>\n",
       "      <td>0.0</td>\n",
       "    </tr>\n",
       "  </tbody>\n",
       "</table>\n",
       "</div>"
      ],
      "text/plain": [
       "             Linear  Random Forrest       MLP  Naive\n",
       "Date                                                \n",
       "2021-06-01  0.00152        0.001757  0.047099    0.0\n",
       "2021-06-02  0.00152        0.001003  0.019351    0.0\n",
       "2021-06-03  0.00152       -0.000366  0.036982    0.0\n",
       "2021-06-04  0.00152       -0.001304  0.034833    0.0\n",
       "2021-06-07  0.00152       -0.000686  0.032153    0.0"
      ]
     },
     "metadata": {},
     "execution_count": 34
    }
   ],
   "metadata": {}
  },
  {
   "cell_type": "markdown",
   "source": [
    "## Compare errors"
   ],
   "metadata": {}
  },
  {
   "cell_type": "code",
   "execution_count": 35,
   "source": [
    "# plot RMSE for each ticker\n",
    "ax = (error_df * 100.0).plot(kind='bar', title=f'Returns Forecast Error ({TICKER})', legend=False, figsize=(1.8*len(models),3))\n",
    "ax.set_ylabel(error_df.columns[0])\n",
    "#ax.set_xticklabels(ax.get_xticks(), rotation=45)\n",
    "#ax.tick_params(axis='x', labelrotation=45)\n",
    "# label bars\n",
    "for p in ax.patches:\n",
    "    ax.annotate(np.round(p.get_height(),decimals=3),\n",
    "        (p.get_x()+p.get_width()/2., p.get_height()),\n",
    "        ha='center',\n",
    "        va='center',\n",
    "        xytext=(0, -12),\n",
    "        textcoords='offset points')\n",
    "plt.xticks(rotation=45, ha='right')\n",
    "#plt.xlabel('Model')\n",
    "plt.ylabel('RMSE (%)')\n",
    "\n",
    "if SAVE_FIGS:\n",
    "    plt.savefig(f'../figures/errors-{TICKER}.png', dpi=DPI, bbox_inches='tight', facecolor='White')"
   ],
   "outputs": [
    {
     "output_type": "display_data",
     "data": {
      "image/png": "[encoded data removed]",
      "text/plain": [
       "<Figure size 518.4x216 with 1 Axes>"
      ]
     },
     "metadata": {
      "needs_background": "light"
     }
    }
   ],
   "metadata": {}
  },
  {
   "cell_type": "markdown",
   "source": [
    "## Assess forecasting strategies"
   ],
   "metadata": {}
  },
  {
   "cell_type": "code",
   "execution_count": 36,
   "source": [
    "# plot returns forecast\n",
    "forecasts_df.plot(figsize=FIGSIZE, title=f'Return Forecasts ({TICKER})')\n",
    "plt.ylabel('Return')\n",
    "\n",
    "if SAVE_FIGS:\n",
    "    plt.savefig(f'../figures/return-forecast-{TICKER}.png', dpi=DPI, bbox_inches='tight', facecolor='White')"
   ],
   "outputs": [
    {
     "output_type": "display_data",
     "data": {
      "image/png": "[encoded data removed]",
      "text/plain": [
       "<Figure size 864x288 with 1 Axes>"
      ]
     },
     "metadata": {
      "needs_background": "light"
     }
    }
   ],
   "metadata": {}
  },
  {
   "cell_type": "markdown",
   "source": [
    "### Getting price forecast from returns forecast"
   ],
   "metadata": {}
  },
  {
   "cell_type": "code",
   "execution_count": 37,
   "source": [
    "# get price forecast forecast\n",
    "forecasts_price_df = (forecasts_df + 1.0) * test_df[['Close']].values\n",
    "forecasts_price_df\n",
    "\n",
    "# plot price forecast forecast\n",
    "ax = df[['Close']]['2021':].plot(figsize=FIGSIZE, title=f'Price Forecasts ({TICKER})')\n",
    "forecasts_price_df.plot(ax=ax)\n",
    "\n",
    "plt.ylabel('Price ($)')\n",
    "\n",
    "if SAVE_FIGS:\n",
    "    plt.savefig(f'../figures/price-forecast-{TICKER}.png', dpi=DPI, bbox_inches='tight', facecolor='White')"
   ],
   "outputs": [
    {
     "output_type": "display_data",
     "data": {
      "image/png": "[encoded data removed]",
      "text/plain": [
       "<Figure size 864x288 with 1 Axes>"
      ]
     },
     "metadata": {
      "needs_background": "light"
     }
    }
   ],
   "metadata": {}
  }
 ],
 "metadata": {
  "interpreter": {
   "hash": "949777d72b0d2535278d3dc13498b2535136f6dfe0678499012e853ee9abcab1"
  },
  "kernelspec": {
   "display_name": "Python 3 (ipykernel)",
   "language": "python",
   "name": "python3"
  },
  "orig_nbformat": 4,
  "language_info": {
   "name": "python",
   "version": "3.8.13",
   "mimetype": "text/x-python",
   "codemirror_mode": {
    "name": "ipython",
    "version": 3
   },
   "pygments_lexer": "ipython3",
   "nbconvert_exporter": "python",
   "file_extension": ".py"
  }
 },
 "nbformat": 4,
 "nbformat_minor": 2
}